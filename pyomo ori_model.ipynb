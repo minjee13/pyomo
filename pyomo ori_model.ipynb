{
 "cells": [
  {
   "cell_type": "code",
   "execution_count": 2,
   "id": "c798cfd2",
   "metadata": {},
   "outputs": [],
   "source": [
    "import pyomo.environ as pyomo\n",
    "\n",
    "# solver\n",
    "solver = pyomo.SolverFactory('cbc',executable=r'C:\\Cbc-master-win64-msvc16-mt\\bin\\cbc.exe')\n",
    "solver.options['sec'] = 5"
   ]
  },
  {
   "cell_type": "code",
   "execution_count": 3,
   "id": "889cadfe",
   "metadata": {},
   "outputs": [],
   "source": [
    "# read data \n",
    "import pandas as pd \n",
    "\n",
    "df = pd.read_csv('pyomo_data.csv')\n",
    "i_set = df['i'].unique()\n",
    "t_set = df['t'].unique()\n",
    "\n",
    "pf_df = pd.read_csv('pyomo_pf.csv')"
   ]
  },
  {
   "cell_type": "markdown",
   "id": "f555088e",
   "metadata": {},
   "source": [
    "buyer "
   ]
  },
  {
   "cell_type": "code",
   "execution_count": null,
   "id": "e361c3f1",
   "metadata": {},
   "outputs": [],
   "source": [
    "# create a model \n",
    "model = pyomo.ConcreteModel()\n",
    "\n",
    "# series \n",
    "model.nt = pyomo.Param(initialize=len(df))\n",
    "model.T = pyomo.Set(initialize=t_set)\n",
    "model.I = pyomo.Set(initialize=i_set)\n",
    "\n",
    "# Parameters\n",
    "model.C_geninv_it = pyomo.Param(model.I, model.T, initialize={(i, t): val for i, t, val in zip(df['i'], df['t'], df['C_geninv_it'])})  # C^{geninv}_{i,t}\n",
    "model.C_gen_it = pyomo.Param(model.I, model.T, initialize={(i, t): val for i, t, val in zip(df['i'], df['t'], df['C_gen_it'])})        # C^{gen}_{i,t}\n",
    "model.f_it = pyomo.Param(model.I, model.T, initialize={(i, t): val for i, t, val in zip(df['i'], df['t'], df['f_it'])})                # f_{i,t}\n",
    "model.CO2_it = pyomo.Param(model.I, model.T, initialize = {(i, t): val for i, t, val in zip(df['i'], df['t'], df['CO2_it'])})          #CO2_{i,t}\n",
    "model.Y_it = pyomo.Param(model.I, model.T, initialize = {(i, t): val for i, t, val in zip(df['i'], df['t'], df['Y_it'])})              #Y_{i,t}\n",
    "model.PS_it = pyomo.Param(model.I, model.T, initialize ={(i, t): val for i, t, val in zip(df['i'], df['t'], df['PS_it'])})             # P^S_{i,t}\n",
    "model.PF_i = pyomo.Param(model.I, initialize={i: val for i, val in zip(pf_df['i'], pf_df['PF_i'])})                                    # P^F_i\n",
    "\n",
    "# Variables\n",
    "model.g_it = pyomo.Var(model.I, model.T, domain=pyomo.NonNegativeReals)       # g_{i,t}\n",
    "model.h_it = pyomo.Var(model.I, model.T, domain=pyomo.NonNegativeReals)       # h_{i,t}\n",
    "model.QF_i = pyomo.Var(model.I, domain=pyomo.NonNegativeReals)                # Q^F_i\n",
    "model.QS_it = pyomo.Var(model.I, model.T, domain=pyomo.NonNegativeReals)      # Q^S_{i,t}\n",
    "model.D_it = pyomo.Var(model.I, model.T, domain=pyomo.NonNegativeReals)       #D_{i,t}\n",
    "\n",
    "# Objective Function\n",
    "def objective_func(model):\n",
    "    return sum(model.PF_i[i] * model.QF_i[i] + \\\n",
    "        sum(model.C_geninv_it[i, t] * model.h_it[i, t] + model.C_gen_it[i, t] * model.g_it[i, t] \\\n",
    "            + model.PS_it[i, t] * model.QS_it[i, t] for t in model.T) \n",
    "        for i in model.I)\n",
    "model.objective = pyomo.Objective(rule = objective_func, sense = pyomo.minimize)\n",
    "\n",
    "# constraints \n",
    "def request(model, i):\n",
    "    return sum(model.Y_it[i, t] for t in model.T) <= model.QF_i[i]\n",
    "model.requestConstraint = pyomo.Constraint(model.I, rule=request)\n",
    "\n",
    "def carbon_target(model, i, t):  \n",
    "    return model.f_it[i, t] * model.g_it[i, t] <= model.CO2_it[i, t]\n",
    "model.carbontargetConstraint = pyomo.Constraint(model.I, model.T, rule=carbon_target)\n",
    "\n",
    "def demand(model,t): \n",
    "    return sum(model.Y_it[i, t] + model.g_it[i, t] + model.QS_it[i, t] - model.D_it[i, t] for i in model.I) == 0\n",
    "model.demandConstraint = pyomo.Constraint(model.T, rule=demand)\n",
    "\n",
    "def generator_capacity (model, i, t):  \n",
    "    return model.g_it[i, t] <= sum(model.h_it[i, tp] for tp in model.T if tp <= t)\n",
    "model.generatorConstraint = pyomo.Constraint(model.I, model.T, rule=generator_capacity)\n"
   ]
  },
  {
   "cell_type": "markdown",
   "id": "30be9dc1",
   "metadata": {},
   "source": [
    "solve"
   ]
  },
  {
   "cell_type": "code",
   "execution_count": null,
   "id": "c16c79e6",
   "metadata": {},
   "outputs": [],
   "source": [
    "result = solver.solve(model)\n",
    "\n",
    "print(result.solver.status)\n",
    "print(result.solver.termination_condition)\n",
    "\n",
    "print(model.objective())\n",
    "print(model.display())"
   ]
  },
  {
   "cell_type": "code",
   "execution_count": null,
   "id": "42536ffc",
   "metadata": {},
   "outputs": [],
   "source": [
    "for t in model.T:\n",
    "    total_supplied = sum(model.QF_i[i]() for i in model.I) \\\n",
    "                     + sum(model.QS_it[i, t]() for i in model.I) \\\n",
    "                     + sum(model.g_it[i, t]() for i in model.I)\n",
    "    demand = sum(model.D_it[i, t]() for i in model.I)\n",
    "    print(f\"Time {t}: Supply = {total_supplied}, Demand = {demand}\")\n"
   ]
  }
 ],
 "metadata": {
  "kernelspec": {
   "display_name": "Python 3",
   "language": "python",
   "name": "python3"
  },
  "language_info": {
   "codemirror_mode": {
    "name": "ipython",
    "version": 3
   },
   "file_extension": ".py",
   "mimetype": "text/x-python",
   "name": "python",
   "nbconvert_exporter": "python",
   "pygments_lexer": "ipython3",
   "version": "3.12.3"
  }
 },
 "nbformat": 4,
 "nbformat_minor": 5
}
