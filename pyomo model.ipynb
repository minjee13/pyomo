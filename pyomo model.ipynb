{
 "cells": [
  {
   "cell_type": "code",
   "execution_count": 98,
   "id": "c798cfd2",
   "metadata": {},
   "outputs": [],
   "source": [
    "import pyomo.environ as pyomo\n",
    "\n",
    "# solver\n",
    "solver = pyomo.SolverFactory('cbc',executable=r'C:\\Cbc-master-win64-msvc16-mt\\bin\\cbc.exe')\n",
    "solver.options['sec'] = 5"
   ]
  },
  {
   "cell_type": "code",
   "execution_count": 99,
   "id": "1e96ecf9",
   "metadata": {},
   "outputs": [],
   "source": [
    "# read data \n",
    "import pandas as pd \n",
    "df = pd.read_csv('same_value_at_all_t.csv')\n",
    "t_set = df['t'].unique()\n",
    "i_set = df['i'].unique()"
   ]
  },
  {
   "cell_type": "markdown",
   "id": "f555088e",
   "metadata": {},
   "source": [
    "buyer "
   ]
  },
  {
   "cell_type": "code",
   "execution_count": null,
   "id": "e361c3f1",
   "metadata": {},
   "outputs": [],
   "source": [
    "# constraints \n",
    "\n",
    "# \\sum_{i,t}Y_{i,t}<= Q^F_i \n",
    "def request(model):\n",
    "    return sum(model.Y_it[t] for t in model.T) <= model.QF_i\n",
    "\n",
    "#  f_{i,t}*g_{i,t} <= CO2_{i,t}\n",
    "def carbon_target(model, t):  \n",
    "    return model.f_it[t] * model.g_it[t] <= model.CO2_it[t]\n",
    "\n",
    "# Y_{i,t} + g_{i,t} + Q^S_{i,t} = D_{i,t} \n",
    "def demand(model, t): \n",
    "    return (model.Y_it[t] + model.g_it[t] + model.QS_it[t] == model.D_it[t]) \n",
    "\n",
    "#  g_{i,t} <= \\sum^t_{t'=1} h_{i,t'}\n",
    "def generator_capacity (model, t):  \n",
    "    return model.g_it[t] <= sum(model.h_it[tp] for tp in model.T if tp <= t)\n",
    "\n"
   ]
  },
  {
   "cell_type": "code",
   "execution_count": null,
   "id": "9b92688a",
   "metadata": {},
   "outputs": [
    {
     "ename": "KeyError",
     "evalue": "0",
     "output_type": "error",
     "traceback": [
      "\u001b[1;31m---------------------------------------------------------------------------\u001b[0m",
      "\u001b[1;31mKeyError\u001b[0m                                  Traceback (most recent call last)",
      "Cell \u001b[1;32mIn[101], line 10\u001b[0m\n\u001b[0;32m      7\u001b[0m model\u001b[38;5;241m.\u001b[39mT \u001b[38;5;241m=\u001b[39m pyomo\u001b[38;5;241m.\u001b[39mSet(initialize\u001b[38;5;241m=\u001b[39mt_set)\n\u001b[0;32m      9\u001b[0m \u001b[38;5;66;03m# Parameters\u001b[39;00m\n\u001b[1;32m---> 10\u001b[0m model\u001b[38;5;241m.\u001b[39mC_geninv_it \u001b[38;5;241m=\u001b[39m pyomo\u001b[38;5;241m.\u001b[39mParam(model\u001b[38;5;241m.\u001b[39mT, initialize\u001b[38;5;241m=\u001b[39m\u001b[43m{\u001b[49m\u001b[43mt\u001b[49m\u001b[43m:\u001b[49m\u001b[43m \u001b[49m\u001b[43mval\u001b[49m\u001b[43m \u001b[49m\u001b[38;5;28;43;01mfor\u001b[39;49;00m\u001b[43m \u001b[49m\u001b[43mt\u001b[49m\u001b[43m,\u001b[49m\u001b[43m \u001b[49m\u001b[43mval\u001b[49m\u001b[43m \u001b[49m\u001b[38;5;129;43;01min\u001b[39;49;00m\u001b[43m \u001b[49m\u001b[38;5;28;43mzip\u001b[39;49m\u001b[43m(\u001b[49m\u001b[43mdf\u001b[49m\u001b[43m[\u001b[49m\u001b[38;5;124;43m'\u001b[39;49m\u001b[38;5;124;43mt\u001b[39;49m\u001b[38;5;124;43m'\u001b[39;49m\u001b[43m]\u001b[49m\u001b[43m,\u001b[49m\u001b[43m \u001b[49m\u001b[43mdf\u001b[49m\u001b[43m[\u001b[49m\u001b[38;5;124;43m'\u001b[39;49m\u001b[38;5;124;43mC_geninv_it\u001b[39;49m\u001b[38;5;124;43m'\u001b[39;49m\u001b[43m]\u001b[49m\u001b[43m)\u001b[49m\u001b[43m}\u001b[49m\u001b[43m[\u001b[49m\u001b[43mi\u001b[49m\u001b[43m]\u001b[49m)  \u001b[38;5;66;03m# C^{geninv}_{i,t}\u001b[39;00m\n\u001b[0;32m     11\u001b[0m model\u001b[38;5;241m.\u001b[39mC_gen_it \u001b[38;5;241m=\u001b[39m pyomo\u001b[38;5;241m.\u001b[39mParam(model\u001b[38;5;241m.\u001b[39mT, initialize\u001b[38;5;241m=\u001b[39m{t: val \u001b[38;5;28;01mfor\u001b[39;00m t, val \u001b[38;5;129;01min\u001b[39;00m \u001b[38;5;28mzip\u001b[39m(df[\u001b[38;5;124m'\u001b[39m\u001b[38;5;124mt\u001b[39m\u001b[38;5;124m'\u001b[39m], df[\u001b[38;5;124m'\u001b[39m\u001b[38;5;124mC_gen_it\u001b[39m\u001b[38;5;124m'\u001b[39m])}[i])        \u001b[38;5;66;03m# C^{gen}_{i,t}\u001b[39;00m\n\u001b[0;32m     12\u001b[0m model\u001b[38;5;241m.\u001b[39mf_it \u001b[38;5;241m=\u001b[39m pyomo\u001b[38;5;241m.\u001b[39mParam(model\u001b[38;5;241m.\u001b[39mT, initialize\u001b[38;5;241m=\u001b[39m{t: val \u001b[38;5;28;01mfor\u001b[39;00m t, val \u001b[38;5;129;01min\u001b[39;00m \u001b[38;5;28mzip\u001b[39m(df[\u001b[38;5;124m'\u001b[39m\u001b[38;5;124mt\u001b[39m\u001b[38;5;124m'\u001b[39m], df[\u001b[38;5;124m'\u001b[39m\u001b[38;5;124mf_it\u001b[39m\u001b[38;5;124m'\u001b[39m])}[i])                \u001b[38;5;66;03m# f_{i,t}\u001b[39;00m\n",
      "\u001b[1;31mKeyError\u001b[0m: 0"
     ]
    }
   ],
   "source": [
    "for i in i_set:\n",
    "    # create a model \n",
    "    model = pyomo.ConcreteModel()\n",
    "\n",
    "    # series \n",
    "    model.nt = pyomo.Param(initialize=len(df))\n",
    "    model.T = pyomo.Set(initialize=t_set)\n",
    "\n",
    "    # Parameters\n",
    "    model.C_geninv_it = pyomo.Param(model.T, initialize={t: df.loc[(df['i'] == i) & (df['t'] == t), 'C_geninv_it'].values[0] for t in t_set})  # C^{geninv}_{i,t}\n",
    "\n",
    "    model.C_gen_it = pyomo.Param(model.T, initialize={t: df.loc[(df['i']==i)&(df['t']==t,'C_gen_it'])])        # C^{gen}_{i,t}\n",
    "    model.f_it = pyomo.Param(model.T, initialize={t: val for t, val in zip(df['t'], df['f_it'])}[i])                # f_{i,t}\n",
    "    model.CO2_it = pyomo.Param(model.T, initialize = {t: val for t, val in zip(df['t'], df['CO2_it'])}[i])          #CO2_{i,t}\n",
    "    model.D_it = pyomo.Param(model.T, initialize = {t: val for t, val in zip(df['t'], df['D_it'])}[i])     #D_{i,t}\n",
    "    model.PS_it = pyomo.Param(model.T, initialize ={t: val for t, val in zip(df['t'], df['PS_it'])}[i])    # P^S_{i,t}\n",
    "    model.PF_i = pyomo.Param(initialize=1.0)                                                              # P^F_i = 5\n",
    "\n",
    "    # Variables\n",
    "    model.g_it = pyomo.Var(model.T, domain=pyomo.NonNegativeReals)       # g_{i,t}\n",
    "    model.h_it = pyomo.Var(model.T, domain=pyomo.NonNegativeReals)       # h_{i,t}\n",
    "    model.QS_it = pyomo.Var(model.T, domain=pyomo.NonNegativeReals)      # Q^S_{i,t}\n",
    "    model.Y_it = pyomo.Var(model.T, domain=pyomo.NonNegativeReals)       #Y_{i,t}\n",
    "    model.QF_i = pyomo.Var(domain=pyomo.NonNegativeReals)                # Q^F_i\n",
    "\n",
    "    # objective function \n",
    "    #min P^F_i * Q^F_i + \\sum_t ( C^{geninv}_{i,t} * h_{i,t} + C^{gen}_{i,t} * g_{i,t} + P^S_{i,t} * Q^S_{i,t} )\n",
    "    def objective_func(model):\n",
    "        return model.PF_i * model.QF_i + \\\n",
    "            sum(model.C_geninv_it[t] * model.h_it[t] + model.C_gen_it[t] * model.g_it[t] \\\n",
    "                + model.PS_it[t] * model.QS_it[t] for t in model.T) \n",
    "    model.objective = pyomo.Objective(rule = objective_func, sense = pyomo.minimize)\n",
    "\n",
    "    model.requestConstraint = pyomo.Constraint(rule=request)\n",
    "    model.carbontargetConstraint = pyomo.Constraint(model.T, rule=carbon_target)\n",
    "    model.demandConstraint = pyomo.Constraint(model.T, rule=demand)\n",
    "    model.generatorConstraint = pyomo.Constraint(model.T, rule=generator_capacity)\n",
    "\n",
    "    result = solver.solve(model)\n",
    "\n",
    "    print(result.solver.status)\n",
    "    print(result.solver.termination_condition)\n",
    "\n",
    "    print(model.objective())\n",
    "    print(model.display())\n"
   ]
  }
 ],
 "metadata": {
  "kernelspec": {
   "display_name": "Python 3",
   "language": "python",
   "name": "python3"
  },
  "language_info": {
   "codemirror_mode": {
    "name": "ipython",
    "version": 3
   },
   "file_extension": ".py",
   "mimetype": "text/x-python",
   "name": "python",
   "nbconvert_exporter": "python",
   "pygments_lexer": "ipython3",
   "version": "3.12.3"
  }
 },
 "nbformat": 4,
 "nbformat_minor": 5
}
