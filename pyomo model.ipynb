{
 "cells": [
  {
   "cell_type": "code",
   "execution_count": 102,
   "id": "c798cfd2",
   "metadata": {},
   "outputs": [],
   "source": [
    "import pyomo.environ as pyomo\n",
    "\n",
    "# solver\n",
    "solver = pyomo.SolverFactory('cbc',executable=r'C:\\Cbc-master-win64-msvc16-mt\\bin\\cbc.exe')\n",
    "solver.options['sec'] = 5"
   ]
  },
  {
   "cell_type": "code",
   "execution_count": 103,
   "id": "1e96ecf9",
   "metadata": {},
   "outputs": [],
   "source": [
    "# read data \n",
    "import pandas as pd \n",
    "\n",
    "df = pd.read_csv('pyomo_data_small.csv')\n",
    "t_set = df['t'].unique()"
   ]
  },
  {
   "cell_type": "markdown",
   "id": "f555088e",
   "metadata": {},
   "source": [
    "buyer "
   ]
  },
  {
   "cell_type": "code",
   "execution_count": 104,
   "id": "9b92688a",
   "metadata": {},
   "outputs": [],
   "source": [
    "# create a model \n",
    "model = pyomo.ConcreteModel()\n",
    "\n",
    "# series \n",
    "model.nt = pyomo.Param(initialize=len(df))\n",
    "model.T = pyomo.Set(initialize=t_set)\n",
    "\n",
    "# Parameters\n",
    "model.C_geninv_it = pyomo.Param(model.T, initialize={t: val for t, val in zip(df['t'], df['C_geninv_it'])})  # C^{geninv}_{i,t}\n",
    "model.C_gen_it = pyomo.Param(model.T, initialize={t: val for t, val in zip(df['t'], df['C_gen_it'])})        # C^{gen}_{i,t}\n",
    "model.f_it = pyomo.Param(model.T, initialize={t: val for t, val in zip(df['t'], df['f_it'])})                # f_{i,t}\n",
    "model.CO2_it = pyomo.Param(model.T, initialize = {t: val for t, val in zip(df['t'], df['CO2_it'])})          #CO2_{i,t}\n",
    "model.Y_it = pyomo.Param(model.T, initialize = {t: val for t, val in zip(df['t'], df['Y_it'])})     #Y_{i,t}\n",
    "model.PS_it = pyomo.Param(model.T, initialize ={t: val for t, val in zip(df['t'], df['PS_it'])})    # P^S_{i,t}\n",
    "model.PF_i = pyomo.Param(initialize=5)                                                              # P^F_i = 5\n",
    "\n",
    "# Variables\n",
    "model.g_it = pyomo.Var(model.T, domain=pyomo.NonNegativeReals)       # g_{i,t}\n",
    "model.h_it = pyomo.Var(model.T, domain=pyomo.NonNegativeReals)       # h_{i,t}\n",
    "model.QF_i = pyomo.Var(domain=pyomo.NonNegativeReals)                # Q^F_i\n",
    "model.QS_it = pyomo.Var(model.T, domain=pyomo.NonNegativeReals)      # Q^S_{i,t}\n",
    "model.D_it = pyomo.Var(model.T, domain=pyomo.NonNegativeReals)       #D_{i,t}"
   ]
  },
  {
   "cell_type": "code",
   "execution_count": null,
   "id": "1ba806d5",
   "metadata": {},
   "outputs": [
    {
     "name": "stdout",
     "output_type": "stream",
     "text": [
      "   t  C_geninv_it  C_gen_it  f_it  CO2_it   Y_it  PS_it\n",
      "0  1         0.01      0.01  0.03      10  0.001      1\n",
      "1  2         0.02      0.02  0.04      20  0.002      2\n",
      "2  3         0.03      0.03  0.05      30  0.003      3\n"
     ]
    }
   ],
   "source": [
    "print(df)"
   ]
  },
  {
   "cell_type": "code",
   "execution_count": 106,
   "id": "e361c3f1",
   "metadata": {},
   "outputs": [],
   "source": [
    "# Objective Function\n",
    "\n",
    "#min P^F_i * Q^F_i + \\sum_t ( C^{geninv}_{i,t} * h_{i,t} + C^{gen}_{i,t} * g_{i,t} + P^S_{i,t} * Q^S_{i,t} )\n",
    "def objective_func(model):\n",
    "    return model.PF_i * model.QF_i + \\\n",
    "        sum(model.C_geninv_it[t] * model.h_it[t] + model.C_gen_it[t] * model.g_it[t] \\\n",
    "            + model.PS_it[t] * model.QS_it[t] for t in model.T) \n",
    "model.objective = pyomo.Objective(rule = objective_func, sense = pyomo.minimize)\n",
    "\n",
    "# constraints \n",
    "\n",
    "# \\sum_{i,t}Y_{i,t}<= Q^F_i \n",
    "def request(model):\n",
    "    return sum(model.Y_it[t] for t in model.T) <= model.QF_i\n",
    "model.requestConstraint = pyomo.Constraint(rule=request)\n",
    "\n",
    "#  f_{i,t}*g_{i,t} <= CO2_{i,t}\n",
    "def carbon_target(model, t):  \n",
    "    return model.f_it[t] * model.g_it[t] <= model.CO2_it[t]\n",
    "model.carbontargetConstraint = pyomo.Constraint(model.T, rule=carbon_target)\n",
    "\n",
    "# Y_{i,t} + g_{i,t} + Q^S_{i,t} = D_{i,t} \n",
    "def demand(model, t): \n",
    "    return (model.Y_it[t] + model.g_it[t] + model.QS_it[t] == model.D_it[t]) \n",
    "model.demandConstraint = pyomo.Constraint(model.T, rule=demand)\n",
    "\n",
    "#  g_{i,t} <= \\sum^t_{t'=1} h_{i,t'}\n",
    "def generator_capacity (model, t):  \n",
    "    return model.g_it[t] <= sum(model.h_it[tp] for tp in model.T if tp <= t)\n",
    "model.generatorConstraint = pyomo.Constraint(model.T, rule=generator_capacity)\n"
   ]
  },
  {
   "cell_type": "markdown",
   "id": "30be9dc1",
   "metadata": {},
   "source": [
    "solve"
   ]
  },
  {
   "cell_type": "code",
   "execution_count": 107,
   "id": "c16c79e6",
   "metadata": {},
   "outputs": [
    {
     "name": "stdout",
     "output_type": "stream",
     "text": [
      "ok\n",
      "optimal\n",
      "0.03\n",
      "Model unknown\n",
      "\n",
      "  Variables:\n",
      "    g_it : Size=3, Index=T\n",
      "        Key : Lower : Value : Upper : Fixed : Stale : Domain\n",
      "          1 :     0 :   0.0 :  None : False : False : NonNegativeReals\n",
      "          2 :     0 :   0.0 :  None : False : False : NonNegativeReals\n",
      "          3 :     0 :   0.0 :  None : False : False : NonNegativeReals\n",
      "    h_it : Size=3, Index=T\n",
      "        Key : Lower : Value : Upper : Fixed : Stale : Domain\n",
      "          1 :     0 :   0.0 :  None : False : False : NonNegativeReals\n",
      "          2 :     0 :   0.0 :  None : False : False : NonNegativeReals\n",
      "          3 :     0 :   0.0 :  None : False : False : NonNegativeReals\n",
      "    QF_i : Size=1, Index=None\n",
      "        Key  : Lower : Value : Upper : Fixed : Stale : Domain\n",
      "        None :     0 : 0.006 :  None : False : False : NonNegativeReals\n",
      "    QS_it : Size=3, Index=T\n",
      "        Key : Lower : Value : Upper : Fixed : Stale : Domain\n",
      "          1 :     0 :   0.0 :  None : False : False : NonNegativeReals\n",
      "          2 :     0 :   0.0 :  None : False : False : NonNegativeReals\n",
      "          3 :     0 :   0.0 :  None : False : False : NonNegativeReals\n",
      "    D_it : Size=3, Index=T\n",
      "        Key : Lower : Value : Upper : Fixed : Stale : Domain\n",
      "          1 :     0 : 0.001 :  None : False : False : NonNegativeReals\n",
      "          2 :     0 : 0.002 :  None : False : False : NonNegativeReals\n",
      "          3 :     0 : 0.003 :  None : False : False : NonNegativeReals\n",
      "\n",
      "  Objectives:\n",
      "    objective : Size=1, Index=None, Active=True\n",
      "        Key  : Active : Value\n",
      "        None :   True :  0.03\n",
      "\n",
      "  Constraints:\n",
      "    requestConstraint : Size=1\n",
      "        Key  : Lower : Body  : Upper\n",
      "        None : 0.006 : 0.006 :  None\n",
      "    carbontargetConstraint : Size=3\n",
      "        Key : Lower : Body : Upper\n",
      "          1 :  None :  0.0 :  10.0\n",
      "          2 :  None :  0.0 :  20.0\n",
      "          3 :  None :  0.0 :  30.0\n",
      "    demandConstraint : Size=3\n",
      "        Key : Lower : Body : Upper\n",
      "          1 :   0.0 :  0.0 :   0.0\n",
      "          2 :   0.0 :  0.0 :   0.0\n",
      "          3 :   0.0 :  0.0 :   0.0\n",
      "    generatorConstraint : Size=3\n",
      "        Key : Lower : Body : Upper\n",
      "          1 :  None :  0.0 :   0.0\n",
      "          2 :  None :  0.0 :   0.0\n",
      "          3 :  None :  0.0 :   0.0\n",
      "None\n"
     ]
    }
   ],
   "source": [
    "result = solver.solve(model)\n",
    "\n",
    "print(result.solver.status)\n",
    "print(result.solver.termination_condition)\n",
    "\n",
    "print(model.objective())\n",
    "print(model.display())"
   ]
  }
 ],
 "metadata": {
  "kernelspec": {
   "display_name": "Python 3",
   "language": "python",
   "name": "python3"
  },
  "language_info": {
   "codemirror_mode": {
    "name": "ipython",
    "version": 3
   },
   "file_extension": ".py",
   "mimetype": "text/x-python",
   "name": "python",
   "nbconvert_exporter": "python",
   "pygments_lexer": "ipython3",
   "version": "3.12.3"
  }
 },
 "nbformat": 4,
 "nbformat_minor": 5
}
