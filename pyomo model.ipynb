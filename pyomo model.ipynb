{
 "cells": [
  {
   "cell_type": "code",
   "execution_count": 7,
   "id": "c798cfd2",
   "metadata": {},
   "outputs": [],
   "source": [
    "import pyomo.environ as pyomo\n",
    "\n",
    "# solver\n",
    "solver = pyomo.SolverFactory('cbc',executable=r'C:\\Cbc-master-win64-msvc16-mt\\bin\\cbc.exe')\n",
    "solver.options['sec'] = 5"
   ]
  },
  {
   "cell_type": "code",
   "execution_count": 8,
   "id": "1e96ecf9",
   "metadata": {},
   "outputs": [],
   "source": [
    "# read data \n",
    "import pandas as pd \n",
    "\n",
    "#df = pd.read_csv('pyomo_data_small.csv')\n",
    "df = pd.read_csv('pyomo_data.csv')\n",
    "t_set = df['t'].unique()"
   ]
  },
  {
   "cell_type": "markdown",
   "id": "f555088e",
   "metadata": {},
   "source": [
    "buyer "
   ]
  },
  {
   "cell_type": "code",
   "execution_count": 9,
   "id": "9b92688a",
   "metadata": {},
   "outputs": [
    {
     "ename": "KeyError",
     "evalue": "'D_it'",
     "output_type": "error",
     "traceback": [
      "\u001b[1;31m---------------------------------------------------------------------------\u001b[0m",
      "\u001b[1;31mKeyError\u001b[0m                                  Traceback (most recent call last)",
      "File \u001b[1;32mc:\\Users\\MJOng\\AppData\\Local\\Programs\\Python\\Python312\\Lib\\site-packages\\pandas\\core\\indexes\\base.py:3805\u001b[0m, in \u001b[0;36mIndex.get_loc\u001b[1;34m(self, key)\u001b[0m\n\u001b[0;32m   3804\u001b[0m \u001b[38;5;28;01mtry\u001b[39;00m:\n\u001b[1;32m-> 3805\u001b[0m     \u001b[38;5;28;01mreturn\u001b[39;00m \u001b[38;5;28;43mself\u001b[39;49m\u001b[38;5;241;43m.\u001b[39;49m\u001b[43m_engine\u001b[49m\u001b[38;5;241;43m.\u001b[39;49m\u001b[43mget_loc\u001b[49m\u001b[43m(\u001b[49m\u001b[43mcasted_key\u001b[49m\u001b[43m)\u001b[49m\n\u001b[0;32m   3806\u001b[0m \u001b[38;5;28;01mexcept\u001b[39;00m \u001b[38;5;167;01mKeyError\u001b[39;00m \u001b[38;5;28;01mas\u001b[39;00m err:\n",
      "File \u001b[1;32mindex.pyx:167\u001b[0m, in \u001b[0;36mpandas._libs.index.IndexEngine.get_loc\u001b[1;34m()\u001b[0m\n",
      "File \u001b[1;32mindex.pyx:196\u001b[0m, in \u001b[0;36mpandas._libs.index.IndexEngine.get_loc\u001b[1;34m()\u001b[0m\n",
      "File \u001b[1;32mpandas\\\\_libs\\\\hashtable_class_helper.pxi:7081\u001b[0m, in \u001b[0;36mpandas._libs.hashtable.PyObjectHashTable.get_item\u001b[1;34m()\u001b[0m\n",
      "File \u001b[1;32mpandas\\\\_libs\\\\hashtable_class_helper.pxi:7089\u001b[0m, in \u001b[0;36mpandas._libs.hashtable.PyObjectHashTable.get_item\u001b[1;34m()\u001b[0m\n",
      "\u001b[1;31mKeyError\u001b[0m: 'D_it'",
      "\nThe above exception was the direct cause of the following exception:\n",
      "\u001b[1;31mKeyError\u001b[0m                                  Traceback (most recent call last)",
      "Cell \u001b[1;32mIn[9], line 13\u001b[0m\n\u001b[0;32m     11\u001b[0m model\u001b[38;5;241m.\u001b[39mf_it \u001b[38;5;241m=\u001b[39m pyomo\u001b[38;5;241m.\u001b[39mParam(model\u001b[38;5;241m.\u001b[39mT, initialize\u001b[38;5;241m=\u001b[39m{t: val \u001b[38;5;28;01mfor\u001b[39;00m t, val \u001b[38;5;129;01min\u001b[39;00m \u001b[38;5;28mzip\u001b[39m(df[\u001b[38;5;124m'\u001b[39m\u001b[38;5;124mt\u001b[39m\u001b[38;5;124m'\u001b[39m], df[\u001b[38;5;124m'\u001b[39m\u001b[38;5;124mf_it\u001b[39m\u001b[38;5;124m'\u001b[39m])})                \u001b[38;5;66;03m# f_{i,t}\u001b[39;00m\n\u001b[0;32m     12\u001b[0m model\u001b[38;5;241m.\u001b[39mCO2_it \u001b[38;5;241m=\u001b[39m pyomo\u001b[38;5;241m.\u001b[39mParam(model\u001b[38;5;241m.\u001b[39mT, initialize \u001b[38;5;241m=\u001b[39m {t: val \u001b[38;5;28;01mfor\u001b[39;00m t, val \u001b[38;5;129;01min\u001b[39;00m \u001b[38;5;28mzip\u001b[39m(df[\u001b[38;5;124m'\u001b[39m\u001b[38;5;124mt\u001b[39m\u001b[38;5;124m'\u001b[39m], df[\u001b[38;5;124m'\u001b[39m\u001b[38;5;124mCO2_it\u001b[39m\u001b[38;5;124m'\u001b[39m])})          \u001b[38;5;66;03m#CO2_{i,t}\u001b[39;00m\n\u001b[1;32m---> 13\u001b[0m model\u001b[38;5;241m.\u001b[39mD_it \u001b[38;5;241m=\u001b[39m pyomo\u001b[38;5;241m.\u001b[39mParam(model\u001b[38;5;241m.\u001b[39mT, initialize \u001b[38;5;241m=\u001b[39m {t: val \u001b[38;5;28;01mfor\u001b[39;00m t, val \u001b[38;5;129;01min\u001b[39;00m \u001b[38;5;28mzip\u001b[39m(df[\u001b[38;5;124m'\u001b[39m\u001b[38;5;124mt\u001b[39m\u001b[38;5;124m'\u001b[39m], \u001b[43mdf\u001b[49m\u001b[43m[\u001b[49m\u001b[38;5;124;43m'\u001b[39;49m\u001b[38;5;124;43mD_it\u001b[39;49m\u001b[38;5;124;43m'\u001b[39;49m\u001b[43m]\u001b[49m)})     \u001b[38;5;66;03m#D_{i,t}\u001b[39;00m\n\u001b[0;32m     14\u001b[0m model\u001b[38;5;241m.\u001b[39mPS_it \u001b[38;5;241m=\u001b[39m pyomo\u001b[38;5;241m.\u001b[39mParam(model\u001b[38;5;241m.\u001b[39mT, initialize \u001b[38;5;241m=\u001b[39m{t: val \u001b[38;5;28;01mfor\u001b[39;00m t, val \u001b[38;5;129;01min\u001b[39;00m \u001b[38;5;28mzip\u001b[39m(df[\u001b[38;5;124m'\u001b[39m\u001b[38;5;124mt\u001b[39m\u001b[38;5;124m'\u001b[39m], df[\u001b[38;5;124m'\u001b[39m\u001b[38;5;124mPS_it\u001b[39m\u001b[38;5;124m'\u001b[39m])})    \u001b[38;5;66;03m# P^S_{i,t}\u001b[39;00m\n\u001b[0;32m     15\u001b[0m model\u001b[38;5;241m.\u001b[39mPF_i \u001b[38;5;241m=\u001b[39m pyomo\u001b[38;5;241m.\u001b[39mParam(initialize\u001b[38;5;241m=\u001b[39m\u001b[38;5;241m5\u001b[39m)                                                              \u001b[38;5;66;03m# P^F_i = 5\u001b[39;00m\n",
      "File \u001b[1;32mc:\\Users\\MJOng\\AppData\\Local\\Programs\\Python\\Python312\\Lib\\site-packages\\pandas\\core\\frame.py:4102\u001b[0m, in \u001b[0;36mDataFrame.__getitem__\u001b[1;34m(self, key)\u001b[0m\n\u001b[0;32m   4100\u001b[0m \u001b[38;5;28;01mif\u001b[39;00m \u001b[38;5;28mself\u001b[39m\u001b[38;5;241m.\u001b[39mcolumns\u001b[38;5;241m.\u001b[39mnlevels \u001b[38;5;241m>\u001b[39m \u001b[38;5;241m1\u001b[39m:\n\u001b[0;32m   4101\u001b[0m     \u001b[38;5;28;01mreturn\u001b[39;00m \u001b[38;5;28mself\u001b[39m\u001b[38;5;241m.\u001b[39m_getitem_multilevel(key)\n\u001b[1;32m-> 4102\u001b[0m indexer \u001b[38;5;241m=\u001b[39m \u001b[38;5;28;43mself\u001b[39;49m\u001b[38;5;241;43m.\u001b[39;49m\u001b[43mcolumns\u001b[49m\u001b[38;5;241;43m.\u001b[39;49m\u001b[43mget_loc\u001b[49m\u001b[43m(\u001b[49m\u001b[43mkey\u001b[49m\u001b[43m)\u001b[49m\n\u001b[0;32m   4103\u001b[0m \u001b[38;5;28;01mif\u001b[39;00m is_integer(indexer):\n\u001b[0;32m   4104\u001b[0m     indexer \u001b[38;5;241m=\u001b[39m [indexer]\n",
      "File \u001b[1;32mc:\\Users\\MJOng\\AppData\\Local\\Programs\\Python\\Python312\\Lib\\site-packages\\pandas\\core\\indexes\\base.py:3812\u001b[0m, in \u001b[0;36mIndex.get_loc\u001b[1;34m(self, key)\u001b[0m\n\u001b[0;32m   3807\u001b[0m     \u001b[38;5;28;01mif\u001b[39;00m \u001b[38;5;28misinstance\u001b[39m(casted_key, \u001b[38;5;28mslice\u001b[39m) \u001b[38;5;129;01mor\u001b[39;00m (\n\u001b[0;32m   3808\u001b[0m         \u001b[38;5;28misinstance\u001b[39m(casted_key, abc\u001b[38;5;241m.\u001b[39mIterable)\n\u001b[0;32m   3809\u001b[0m         \u001b[38;5;129;01mand\u001b[39;00m \u001b[38;5;28many\u001b[39m(\u001b[38;5;28misinstance\u001b[39m(x, \u001b[38;5;28mslice\u001b[39m) \u001b[38;5;28;01mfor\u001b[39;00m x \u001b[38;5;129;01min\u001b[39;00m casted_key)\n\u001b[0;32m   3810\u001b[0m     ):\n\u001b[0;32m   3811\u001b[0m         \u001b[38;5;28;01mraise\u001b[39;00m InvalidIndexError(key)\n\u001b[1;32m-> 3812\u001b[0m     \u001b[38;5;28;01mraise\u001b[39;00m \u001b[38;5;167;01mKeyError\u001b[39;00m(key) \u001b[38;5;28;01mfrom\u001b[39;00m\u001b[38;5;250m \u001b[39m\u001b[38;5;21;01merr\u001b[39;00m\n\u001b[0;32m   3813\u001b[0m \u001b[38;5;28;01mexcept\u001b[39;00m \u001b[38;5;167;01mTypeError\u001b[39;00m:\n\u001b[0;32m   3814\u001b[0m     \u001b[38;5;66;03m# If we have a listlike key, _check_indexing_error will raise\u001b[39;00m\n\u001b[0;32m   3815\u001b[0m     \u001b[38;5;66;03m#  InvalidIndexError. Otherwise we fall through and re-raise\u001b[39;00m\n\u001b[0;32m   3816\u001b[0m     \u001b[38;5;66;03m#  the TypeError.\u001b[39;00m\n\u001b[0;32m   3817\u001b[0m     \u001b[38;5;28mself\u001b[39m\u001b[38;5;241m.\u001b[39m_check_indexing_error(key)\n",
      "\u001b[1;31mKeyError\u001b[0m: 'D_it'"
     ]
    }
   ],
   "source": [
    "# create a model \n",
    "model = pyomo.ConcreteModel()\n",
    "\n",
    "# series \n",
    "model.nt = pyomo.Param(initialize=len(df))\n",
    "model.T = pyomo.Set(initialize=t_set)\n",
    "\n",
    "# Parameters\n",
    "model.C_geninv_it = pyomo.Param(model.T, initialize={t: val for t, val in zip(df['t'], df['C_geninv_it'])})  # C^{geninv}_{i,t}\n",
    "model.C_gen_it = pyomo.Param(model.T, initialize={t: val for t, val in zip(df['t'], df['C_gen_it'])})        # C^{gen}_{i,t}\n",
    "model.f_it = pyomo.Param(model.T, initialize={t: val for t, val in zip(df['t'], df['f_it'])})                # f_{i,t}\n",
    "model.CO2_it = pyomo.Param(model.T, initialize = {t: val for t, val in zip(df['t'], df['CO2_it'])})          #CO2_{i,t}\n",
    "model.D_it = pyomo.Param(model.T, initialize = {t: val for t, val in zip(df['t'], df['D_it'])})     #D_{i,t}\n",
    "model.PS_it = pyomo.Param(model.T, initialize ={t: val for t, val in zip(df['t'], df['PS_it'])})    # P^S_{i,t}\n",
    "model.PF_i = pyomo.Param(initialize=5)                                                              # P^F_i = 5\n",
    "\n",
    "# Variables\n",
    "model.g_it = pyomo.Var(model.T, domain=pyomo.NonNegativeReals)       # g_{i,t}\n",
    "model.h_it = pyomo.Var(model.T, domain=pyomo.NonNegativeReals)       # h_{i,t}\n",
    "model.QF_i = pyomo.Var(domain=pyomo.NonNegativeReals)                # Q^F_i\n",
    "model.QS_it = pyomo.Var(model.T, domain=pyomo.NonNegativeReals)      # Q^S_{i,t}\n",
    "model.Y_it = pyomo.Var(model.T, domain=pyomo.NonNegativeReals)       #Y_{i,t}"
   ]
  },
  {
   "cell_type": "code",
   "execution_count": null,
   "id": "1ba806d5",
   "metadata": {},
   "outputs": [],
   "source": [
    "print(df)"
   ]
  },
  {
   "cell_type": "code",
   "execution_count": null,
   "id": "e361c3f1",
   "metadata": {},
   "outputs": [],
   "source": [
    "# Objective Function\n",
    "\n",
    "#min P^F_i * Q^F_i + \\sum_t ( C^{geninv}_{i,t} * h_{i,t} + C^{gen}_{i,t} * g_{i,t} + P^S_{i,t} * Q^S_{i,t} )\n",
    "def objective_func(model):\n",
    "    return model.PF_i * model.QF_i + \\\n",
    "        sum(model.C_geninv_it[t] * model.h_it[t] + model.C_gen_it[t] * model.g_it[t] \\\n",
    "            + model.PS_it[t] * model.QS_it[t] for t in model.T) \n",
    "model.objective = pyomo.Objective(rule = objective_func, sense = pyomo.minimize)\n",
    "\n",
    "# constraints \n",
    "\n",
    "# \\sum_{i,t}Y_{i,t}<= Q^F_i \n",
    "def request(model):\n",
    "    return sum(model.Y_it[t] for t in model.T) <= model.QF_i\n",
    "model.requestConstraint = pyomo.Constraint(rule=request)\n",
    "\n",
    "#  f_{i,t}*g_{i,t} <= CO2_{i,t}\n",
    "def carbon_target(model, t):  \n",
    "    return model.f_it[t] * model.g_it[t] <= model.CO2_it[t]\n",
    "model.carbontargetConstraint = pyomo.Constraint(model.T, rule=carbon_target)\n",
    "\n",
    "# Y_{i,t} + g_{i,t} + Q^S_{i,t} = D_{i,t} \n",
    "def demand(model, t): \n",
    "    return (model.Y_it[t] + model.g_it[t] + model.QS_it[t] == model.D_it[t]) \n",
    "model.demandConstraint = pyomo.Constraint(model.T, rule=demand)\n",
    "\n",
    "#  g_{i,t} <= \\sum^t_{t'=1} h_{i,t'}\n",
    "def generator_capacity (model, t):  \n",
    "    return model.g_it[t] <= sum(model.h_it[tp] for tp in model.T if tp <= t)\n",
    "model.generatorConstraint = pyomo.Constraint(model.T, rule=generator_capacity)\n"
   ]
  },
  {
   "cell_type": "markdown",
   "id": "30be9dc1",
   "metadata": {},
   "source": [
    "solve"
   ]
  },
  {
   "cell_type": "code",
   "execution_count": null,
   "id": "c16c79e6",
   "metadata": {},
   "outputs": [],
   "source": [
    "result = solver.solve(model)\n",
    "\n",
    "print(result.solver.status)\n",
    "print(result.solver.termination_condition)\n",
    "\n",
    "print(model.objective())\n",
    "print(model.display())"
   ]
  }
 ],
 "metadata": {
  "kernelspec": {
   "display_name": "Python 3",
   "language": "python",
   "name": "python3"
  },
  "language_info": {
   "codemirror_mode": {
    "name": "ipython",
    "version": 3
   },
   "file_extension": ".py",
   "mimetype": "text/x-python",
   "name": "python",
   "nbconvert_exporter": "python",
   "pygments_lexer": "ipython3",
   "version": "3.12.3"
  }
 },
 "nbformat": 4,
 "nbformat_minor": 5
}
